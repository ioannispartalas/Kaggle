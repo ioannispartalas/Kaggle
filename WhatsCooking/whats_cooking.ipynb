{
 "cells": [
  {
   "cell_type": "code",
   "execution_count": 5,
   "metadata": {
    "collapsed": true
   },
   "outputs": [],
   "source": [
    "%matplotlib inline\n",
    "import pandas as pd\n",
    "import numpy as np\n",
    "import sys \n",
    "from sklearn.feature_extraction.text import TfidfVectorizer\n",
    "from sklearn import cross_validation\n",
    "from sklearn.svm import LinearSVC\n",
    "from sklearn.linear_model import LogisticRegression,SGDClassifier\n",
    "import re\n",
    "from nltk.stem import WordNetLemmatizer\n",
    "from sklearn.preprocessing import Normalizer,LabelEncoder,normalize,PolynomialFeatures\n",
    "from sklearn.metrics import accuracy_score\n",
    "import matplotlib.pyplot as plt \n",
    "import matplotlib"
   ]
  },
  {
   "cell_type": "code",
   "execution_count": 11,
   "metadata": {
    "collapsed": true
   },
   "outputs": [],
   "source": [
    "def preprocess(text):\n",
    "    t = re.sub('-',r' ',text)\n",
    "    t = re.sub('\\W',r' ',t)\n",
    "    t = re.sub('\\d',r' ',t)\n",
    "    return t\n",
    "\n",
    "def crossValidateClassifier(X,y,clf):\n",
    "    cross_val = cross_validation.StratifiedKFold(y_train,n_folds=5,shuffle=True)\n",
    "    cv_score = cross_validation.cross_val_score(clf,X,y,scoring='accuracy',cv=cross_val)\n",
    "    print cv_score\n",
    "    print np.mean(cv_score)\n",
    "    return"
   ]
  },
  {
   "cell_type": "code",
   "execution_count": 23,
   "metadata": {
    "collapsed": false
   },
   "outputs": [
    {
     "data": {
      "image/png": "[encoded data removed]",
      "text/plain": [
       "<matplotlib.figure.Figure at 0x7ffac576a110>"
      ]
     },
     "metadata": {},
     "output_type": "display_data"
    }
   ],
   "source": [
    "stemmer = WordNetLemmatizer()\n",
    "train = pd.read_json(\"train.json\")\n",
    "train['ing'] = [' '.join([stemmer.lemmatize(preprocess(ingr)) for ingr in recette]).strip() for recette in train['ingredients']]\n",
    "\n",
    "matplotlib.style.use('ggplot')\n",
    "cuisine_group = train.groupby('cuisine')\n",
    "cuisine_group.size().sort_values(ascending=True).plot.barh()\n",
    "plt.show()\n",
    "\n",
    "tfidf = TfidfVectorizer(sublinear_tf=True,max_df=0.5,ngram_range=(1,2),stop_words='english',norm='l2',binary=False)\n",
    "tfidf.fit(train['ing'])\n",
    "X_train = tfidf.transform(train['ing'])\n",
    "y_train = train['cuisine']"
   ]
  },
  {
   "cell_type": "code",
   "execution_count": 24,
   "metadata": {
    "collapsed": false
   },
   "outputs": [
    {
     "data": {
      "text/plain": [
       "<39774x80801 sparse matrix of type '<type 'numpy.float64'>'\n",
       "\twith 1471435 stored elements in Compressed Sparse Row format>"
      ]
     },
     "execution_count": 24,
     "metadata": {},
     "output_type": "execute_result"
    }
   ],
   "source": [
    "# encode string labels\n",
    "lenc = LabelEncoder()\n",
    "lenc.fit(y_train)\n",
    "y_train_enc = lenc.transform(y_train)\n",
    "#power normalization\n",
    "X_train.data**=0.5\n",
    "normalize(X_train,copy=False)"
   ]
  },
  {
   "cell_type": "code",
   "execution_count": 25,
   "metadata": {
    "collapsed": false
   },
   "outputs": [],
   "source": [
    "test = pd.read_json(\"test.json\")\n",
    "test['ing'] = [' '.join([stemmer.lemmatize(preprocess(ingr)) for ingr in recette]).strip() for recette in test['ingredients']]\n",
    "X_test = tfidf.transform(test['ing'])"
   ]
  },
  {
   "cell_type": "code",
   "execution_count": 26,
   "metadata": {
    "collapsed": false
   },
   "outputs": [
    {
     "name": "stdout",
     "output_type": "stream",
     "text": [
      "20\n",
      "[ 0.79326802  0.7916562   0.78682755  0.79109546  0.79476532]\n",
      "0.791522509921\n"
     ]
    }
   ],
   "source": [
    "X_test.data**=0.5\n",
    "normalize(X_test,copy=False)\n",
    "categories = train['cuisine'].unique()\n",
    "clf = LinearSVC(C=0.5,multi_class='ovr',dual=True)\n",
    "crossValidateClassifier(X_train,y_train,clf)\n",
    "#test['cuisine']=train_and_test(clf,X_train,y_train,X_test)\n",
    "#test[['id','cuisine']].to_csv(\"lr_c5_norm.csv\",index=False)"
   ]
  },
  {
   "cell_type": "code",
   "execution_count": null,
   "metadata": {
    "collapsed": true
   },
   "outputs": [],
   "source": []
  }
 ],
 "metadata": {
  "kernelspec": {
   "display_name": "Python 2",
   "language": "python",
   "name": "python2"
  },
  "language_info": {
   "codemirror_mode": {
    "name": "ipython",
    "version": 2
   },
   "file_extension": ".py",
   "mimetype": "text/x-python",
   "name": "python",
   "nbconvert_exporter": "python",
   "pygments_lexer": "ipython2",
   "version": "2.7.6"
  }
 },
 "nbformat": 4,
 "nbformat_minor": 0
}
